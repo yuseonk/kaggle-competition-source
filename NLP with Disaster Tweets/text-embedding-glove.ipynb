{
 "cells": [
  {
   "cell_type": "code",
   "execution_count": 1,
   "metadata": {
    "_cell_guid": "b1076dfc-b9ad-4769-8c92-a6c4dae69d19",
    "_uuid": "8f2839f25d086af736a60e9eeb907d3b93b6e0e5"
   },
   "outputs": [
    {
     "name": "stdout",
     "output_type": "stream",
     "text": [
      "/kaggle/input/glove-global-vectors-for-word-representation/glove.6B.100d.txt\n",
      "/kaggle/input/glove-global-vectors-for-word-representation/glove.6B.200d.txt\n",
      "/kaggle/input/glove-global-vectors-for-word-representation/glove.6B.50d.txt\n",
      "/kaggle/input/nlp-getting-started/sample_submission.csv\n",
      "/kaggle/input/nlp-getting-started/test.csv\n",
      "/kaggle/input/nlp-getting-started/train.csv\n"
     ]
    }
   ],
   "source": [
    "import numpy as np # linear algebra\n",
    "import pandas as pd # data processing, CSV file I/O (e.g. pd.read_csv)\n",
    "\n",
    "import os\n",
    "for dirname, _, filenames in os.walk('/kaggle/input'):\n",
    "    for filename in filenames:\n",
    "        print(os.path.join(dirname, filename))\n",
    "\n",
    "#ignore warnings\n",
    "import warnings\n",
    "warnings.filterwarnings('ignore')"
   ]
  },
  {
   "cell_type": "code",
   "execution_count": 2,
   "metadata": {
    "_cell_guid": "79c7e3d0-c299-4dcb-8224-4455121ee9b0",
    "_uuid": "d629ff2d2480ee46fbb7e2d37f6b5fab8052498a"
   },
   "outputs": [
    {
     "data": {
      "text/html": [
       "<div>\n",
       "<style scoped>\n",
       "    .dataframe tbody tr th:only-of-type {\n",
       "        vertical-align: middle;\n",
       "    }\n",
       "\n",
       "    .dataframe tbody tr th {\n",
       "        vertical-align: top;\n",
       "    }\n",
       "\n",
       "    .dataframe thead th {\n",
       "        text-align: right;\n",
       "    }\n",
       "</style>\n",
       "<table border=\"1\" class=\"dataframe\">\n",
       "  <thead>\n",
       "    <tr style=\"text-align: right;\">\n",
       "      <th></th>\n",
       "      <th>id</th>\n",
       "      <th>keyword</th>\n",
       "      <th>location</th>\n",
       "      <th>text</th>\n",
       "      <th>target</th>\n",
       "    </tr>\n",
       "  </thead>\n",
       "  <tbody>\n",
       "    <tr>\n",
       "      <th>0</th>\n",
       "      <td>1</td>\n",
       "      <td>NaN</td>\n",
       "      <td>NaN</td>\n",
       "      <td>Our Deeds are the Reason of this #earthquake M...</td>\n",
       "      <td>1</td>\n",
       "    </tr>\n",
       "    <tr>\n",
       "      <th>1</th>\n",
       "      <td>4</td>\n",
       "      <td>NaN</td>\n",
       "      <td>NaN</td>\n",
       "      <td>Forest fire near La Ronge Sask. Canada</td>\n",
       "      <td>1</td>\n",
       "    </tr>\n",
       "    <tr>\n",
       "      <th>2</th>\n",
       "      <td>5</td>\n",
       "      <td>NaN</td>\n",
       "      <td>NaN</td>\n",
       "      <td>All residents asked to 'shelter in place' are ...</td>\n",
       "      <td>1</td>\n",
       "    </tr>\n",
       "    <tr>\n",
       "      <th>3</th>\n",
       "      <td>6</td>\n",
       "      <td>NaN</td>\n",
       "      <td>NaN</td>\n",
       "      <td>13,000 people receive #wildfires evacuation or...</td>\n",
       "      <td>1</td>\n",
       "    </tr>\n",
       "    <tr>\n",
       "      <th>4</th>\n",
       "      <td>7</td>\n",
       "      <td>NaN</td>\n",
       "      <td>NaN</td>\n",
       "      <td>Just got sent this photo from Ruby #Alaska as ...</td>\n",
       "      <td>1</td>\n",
       "    </tr>\n",
       "  </tbody>\n",
       "</table>\n",
       "</div>"
      ],
      "text/plain": [
       "   id keyword location                                               text  \\\n",
       "0   1     NaN      NaN  Our Deeds are the Reason of this #earthquake M...   \n",
       "1   4     NaN      NaN             Forest fire near La Ronge Sask. Canada   \n",
       "2   5     NaN      NaN  All residents asked to 'shelter in place' are ...   \n",
       "3   6     NaN      NaN  13,000 people receive #wildfires evacuation or...   \n",
       "4   7     NaN      NaN  Just got sent this photo from Ruby #Alaska as ...   \n",
       "\n",
       "   target  \n",
       "0       1  \n",
       "1       1  \n",
       "2       1  \n",
       "3       1  \n",
       "4       1  "
      ]
     },
     "execution_count": 2,
     "metadata": {},
     "output_type": "execute_result"
    }
   ],
   "source": [
    "data = pd.read_csv('/kaggle/input/nlp-getting-started/train.csv')\n",
    "data.head()"
   ]
  },
  {
   "cell_type": "code",
   "execution_count": 3,
   "metadata": {},
   "outputs": [],
   "source": [
    "samples = data['text'].values"
   ]
  },
  {
   "cell_type": "markdown",
   "metadata": {},
   "source": [
    "# 원본 텍스트를 케라스에서 사용할 수 있도록 넘파이 배열로 변환하는 방법.\n",
    "## 1. 단어 원-핫 인코딩\n",
    "## 2. 단어 임베딩"
   ]
  },
  {
   "cell_type": "markdown",
   "metadata": {},
   "source": [
    "# 단어 수준 원-핫 인코딩(one-hot incoding)"
   ]
  },
  {
   "cell_type": "code",
   "execution_count": 4,
   "metadata": {},
   "outputs": [
    {
     "data": {
      "text/plain": [
       "(7613, 10, 31925)"
      ]
     },
     "execution_count": 4,
     "metadata": {},
     "output_type": "execute_result"
    }
   ],
   "source": [
    "token_index = {} # samples에 있는 모든 토큰의 인덱스\n",
    "\n",
    "for sample in samples:\n",
    "    for word in sample.split(): # 단어 단위로 분할\n",
    "        if word not in token_index: # 단어 별 고유 인덱스 할당\n",
    "            token_index[word] = len(token_index) + 1\n",
    "            # 인덱스 0은 사용안함\n",
    "\n",
    "max_length = 10 # 한 문장 당 최대 토큰 개수\n",
    "results = np.zeros((len(samples), max_length, max(token_index.values()) + 1)) # 결과 저장 배열\n",
    "\n",
    "for i, sample in enumerate(samples):\n",
    "    for j, word in list(enumerate(sample.split()))[:max_length]:\n",
    "        index = token_index.get(word)\n",
    "        results[i, j, index] = 1.\n",
    "        \n",
    "results.shape # results 크기 = 문장 개수x(max_length)x전체 단어 개수"
   ]
  },
  {
   "cell_type": "markdown",
   "metadata": {},
   "source": [
    "## 케라스 이용\n",
    "* 특수 문자를 제거하거나 빈도가 높은 N개의 단어만을 선택하는 등 여러 가지 중요한 기능 제공"
   ]
  },
  {
   "cell_type": "code",
   "execution_count": 5,
   "metadata": {},
   "outputs": [
    {
     "name": "stderr",
     "output_type": "stream",
     "text": [
      "Using TensorFlow backend.\n"
     ]
    },
    {
     "name": "stdout",
     "output_type": "stream",
     "text": [
      "samples to word index list(sequences)\n",
      "[[119, 24, 4, 868, 8, 21, 263, 138, 89, 40], [189, 45, 229, 799], [40, 7, 6, 24, 136, 20, 39, 441, 256, 57, 6, 714, 24], [835, 59, 256, 6, 96], [34, 100, 21, 320, 22, 30, 271, 22, 69, 5, 187]]\n",
      "one hot results [[0. 0. 0. ... 0. 0. 0.]\n",
      " [0. 0. 0. ... 0. 0. 0.]\n",
      " [0. 0. 0. ... 0. 0. 0.]\n",
      " [0. 0. 0. ... 0. 0. 0.]\n",
      " [0. 0. 0. ... 0. 0. 0.]]\n",
      "Found 22700 unique tokens.\n"
     ]
    }
   ],
   "source": [
    "from keras.preprocessing.text import Tokenizer\n",
    "\n",
    "tokenizer = Tokenizer(num_words=1000) # 가장 빈도가 높은 1,000개의 단어만 선택하도록 Tokenizer 객체 만들기\n",
    "tokenizer.fit_on_texts(samples)# 단어 인덱스 구축.\n",
    "sequences = tokenizer.texts_to_sequences(samples) # 문자열을 정수 인덱스의 리스트로 변환.\n",
    "\n",
    "# print('samples', samples[:5], sep='\\n')\n",
    "print('samples to word index list(sequences)', sequences[:5], sep='\\n')\n",
    "\n",
    "one_hot_results = tokenizer.texts_to_matrix(samples, mode='binary') # 원-핫 이진 벡터 표현\n",
    "print('one hot results', one_hot_results[:5])\n",
    "\n",
    "word_index = tokenizer.word_index # 계산된 단어 인덱스\n",
    "# print('word index list', word_index)\n",
    "print('Found %s unique tokens.' % len(word_index))"
   ]
  },
  {
   "cell_type": "markdown",
   "metadata": {},
   "source": [
    "# 문자 수준 원-핫 인코딩"
   ]
  },
  {
   "cell_type": "code",
   "execution_count": 6,
   "metadata": {},
   "outputs": [
    {
     "data": {
      "text/plain": [
       "(7613, 50, 101)"
      ]
     },
     "execution_count": 6,
     "metadata": {},
     "output_type": "execute_result"
    }
   ],
   "source": [
    "import string\n",
    "\n",
    "characters = string.printable  # 출력 가능한 모든 아스키(ASCII) 문자\n",
    "token_index = dict(zip(characters, range(1, len(characters) + 1)))\n",
    "\n",
    "max_length = 50\n",
    "results = np.zeros((len(samples), max_length, max(token_index.values()) + 1))\n",
    "for i, sample in enumerate(samples):\n",
    "    for j, character in enumerate(sample[:max_length]):\n",
    "        index = token_index.get(character)\n",
    "        results[i, j, index] = 1.\n",
    "        \n",
    "results.shape"
   ]
  },
  {
   "cell_type": "markdown",
   "metadata": {},
   "source": [
    "# 단어 수준의 원-핫 해싱(one-hot hashing)\n",
    "* 토큰의 수가 너무 클 때 사용\n",
    "* 단어의 인덱스를 딕셔너리에 저장하는 대신, 간단한 해싱 함수를 사용하여 고정된 크기의 벡터로 변환.\n",
    "* 주의할 점: 해시 충돌(hash collision). 두 개의 단어가 같은 해시를 만들지 않도록 주의."
   ]
  },
  {
   "cell_type": "code",
   "execution_count": 7,
   "metadata": {},
   "outputs": [
    {
     "data": {
      "text/plain": [
       "(7613, 10, 1000)"
      ]
     },
     "execution_count": 7,
     "metadata": {},
     "output_type": "execute_result"
    }
   ],
   "source": [
    "dimensionality = 1000 # 단어를 크기가 1,000인 벡터로 저장. 1,000개(또는 그이상)의 단어가 있다면 해싱 충돌이 늘어나고 인코딩의 정확도가 감소될 것,,\n",
    "\n",
    "max_length = 10\n",
    "results = np.zeros((len(samples), max_length, dimensionality))\n",
    "for i, sample in enumerate(samples):\n",
    "    for j, word in list(enumerate(sample.split()))[:max_length]:\n",
    "        index = abs(hash(word)) % dimensionality # 단어를 해싱하여 0과 1,000 사이의 랜덤한 정수 인덱스로 변환\n",
    "        results[i, j, index] = 1.\n",
    "        \n",
    "results.shape"
   ]
  },
  {
   "cell_type": "markdown",
   "metadata": {},
   "source": [
    "원-핫 인코딩으로 만든 벡터는 희소하고(대부분 값이 0) 고차원임(단어의 수와 차원이 같음)."
   ]
  },
  {
   "cell_type": "markdown",
   "metadata": {},
   "source": [
    "# Embedding\n",
    "* 텍스트 정보를 적은 차원에 저장(단어 밀집 벡터).\n",
    "* 원-핫 인코딩처럼 직접 벡터를 생성하는 것이 아닌, 데이터로부터 학습하여 얻음.\n",
    "* 단어 임베딩이란 단어 간의 특정 의미 관계내는 단어 벡터 간의 연결을 나타냄.\n",
    "* 어떤 문제를 해결하느냐에 따라 새로운 임베딩을 학습해야 함.\n",
    "  (영어로 된 영화 리뷰 감성 분석 모델을 위한 단어 임베딩 공간은 한국어로 된 영화 리뷰 감성 분석 모델을 위한 단어 임베딩 공간과 다를 것.)\n",
    "* 임베딩 층의 가중치를 학습.\n",
    "  * 임베딩 층은 정수 인덱스를 밀집 벡터로 매핑하는 딕셔너리 같은 역할.\n",
    "  * 정수를 입력으로 받아 내부 딕셔너리에서 정수와 연관된 벡터를 찾아 반환.\n",
    "  * 단어 인덱스 --> embedding layer --> 연관된 단어 벡터\n",
    "  * 여기서 말하는 가중치는 토큰 벡터 매핑을 위한 내부 딕셔너리를 말함.\n",
    "  * 가중치는 초기에 신경망처럼 랜덤하게 초기화되어 있으며 역전파를 통해 점차 조정되어 이어지는 모델이 사용할 수 있도록 임베딩 공간 구성.\n",
    "  * 훈련이 끝나면 임베딩 공간은 특정 문제에 특화된 구조를 가지게 됨."
   ]
  },
  {
   "cell_type": "code",
   "execution_count": 8,
   "metadata": {},
   "outputs": [],
   "source": [
    "from keras.layers import Embedding\n",
    "\n",
    "# 임베딩 층은 적어도 2개의 매개변수 필요. (max token, embedding_dimensionality)\n",
    "embedding_layer = Embedding(1000,64)\n",
    "# 가능한 토큰의 개수 1000 = 단어 인덱스 최대값+1\n",
    "# 임베딩 차원 64\n",
    "# 가중치 크기는 1000x64, 단어 인덱스는 1~999 사이."
   ]
  },
  {
   "cell_type": "code",
   "execution_count": 9,
   "metadata": {},
   "outputs": [
    {
     "name": "stdout",
     "output_type": "stream",
     "text": [
      "22700개의 고유한 토큰을 찾았습니다.\n"
     ]
    },
    {
     "data": {
      "text/plain": [
       "((5100, 100), (2513, 100), (5100,), (2513,))"
      ]
     },
     "execution_count": 9,
     "metadata": {},
     "output_type": "execute_result"
    }
   ],
   "source": [
    "from sklearn.model_selection import train_test_split\n",
    "from keras.preprocessing.sequence import pad_sequences\n",
    "\n",
    "max_len = 100 # 사용할 텍스트 길이, sequence_length\n",
    "max_features = 10000 # 특성으로 사용할 단어 수, 가장 빈도 높은 1만개 단어만 사용.\n",
    "\n",
    "sample_data = data[['text','target']]\n",
    "idx = sample_data.index\n",
    "x_train_idx, x_val_idx, y_train, y_val = train_test_split(idx, sample_data['target'].values, test_size=0.33, random_state=0)\n",
    "\n",
    "tokenizer = Tokenizer(num_words=max_features)\n",
    "tokenizer.fit_on_texts(sample_data['text'])\n",
    "sequence = tokenizer.texts_to_sequences(sample_data['text']) \n",
    "\n",
    "word_index = tokenizer.word_index\n",
    "print('%s개의 고유한 토큰을 찾았습니다.' % len(word_index))\n",
    "\n",
    "# 임베딩 층 입력 = (samples, sequence_length)인 2D 정수 텐서\n",
    "# (samples, max_len) 크기의 2D 정수 텐서 변경\n",
    "token_data = pad_sequences(sequence, maxlen=max_len)\n",
    "\n",
    "x_train = token_data[x_train_idx]\n",
    "x_val = token_data[x_val_idx]\n",
    "\n",
    "x_train.shape, x_val.shape, y_train.shape, y_val.shape"
   ]
  },
  {
   "cell_type": "code",
   "execution_count": 10,
   "metadata": {},
   "outputs": [
    {
     "name": "stdout",
     "output_type": "stream",
     "text": [
      "Model: \"sequential_1\"\n",
      "_________________________________________________________________\n",
      "Layer (type)                 Output Shape              Param #   \n",
      "=================================================================\n",
      "embedding_2 (Embedding)      (None, 100, 8)            80000     \n",
      "_________________________________________________________________\n",
      "flatten_1 (Flatten)          (None, 800)               0         \n",
      "_________________________________________________________________\n",
      "dense_1 (Dense)              (None, 1)                 801       \n",
      "=================================================================\n",
      "Total params: 80,801\n",
      "Trainable params: 80,801\n",
      "Non-trainable params: 0\n",
      "_________________________________________________________________\n",
      "Train on 5100 samples, validate on 2513 samples\n",
      "Epoch 1/10\n",
      "5100/5100 [==============================] - 1s 176us/step - loss: 0.6711 - acc: 0.5796 - val_loss: 0.6389 - val_acc: 0.6486\n",
      "Epoch 2/10\n",
      "5100/5100 [==============================] - 0s 93us/step - loss: 0.6038 - acc: 0.7125 - val_loss: 0.5685 - val_acc: 0.7402\n",
      "Epoch 3/10\n",
      "5100/5100 [==============================] - 0s 88us/step - loss: 0.5264 - acc: 0.7698 - val_loss: 0.5145 - val_acc: 0.7660\n",
      "Epoch 4/10\n",
      "5100/5100 [==============================] - 0s 90us/step - loss: 0.4621 - acc: 0.8112 - val_loss: 0.4799 - val_acc: 0.7831\n",
      "Epoch 5/10\n",
      "5100/5100 [==============================] - 0s 90us/step - loss: 0.4135 - acc: 0.8339 - val_loss: 0.4634 - val_acc: 0.7887\n",
      "Epoch 6/10\n",
      "5100/5100 [==============================] - 0s 91us/step - loss: 0.3760 - acc: 0.8518 - val_loss: 0.4512 - val_acc: 0.7975\n",
      "Epoch 7/10\n",
      "5100/5100 [==============================] - 0s 88us/step - loss: 0.3483 - acc: 0.8622 - val_loss: 0.4489 - val_acc: 0.7967\n",
      "Epoch 8/10\n",
      "5100/5100 [==============================] - 0s 87us/step - loss: 0.3244 - acc: 0.8722 - val_loss: 0.4464 - val_acc: 0.8022\n",
      "Epoch 9/10\n",
      "5100/5100 [==============================] - 0s 88us/step - loss: 0.3046 - acc: 0.8798 - val_loss: 0.4476 - val_acc: 0.7994\n",
      "Epoch 10/10\n",
      "5100/5100 [==============================] - 0s 90us/step - loss: 0.2871 - acc: 0.8882 - val_loss: 0.4530 - val_acc: 0.7967\n"
     ]
    }
   ],
   "source": [
    "from keras.models import Sequential\n",
    "from keras.layers import Flatten, Dense, Embedding\n",
    "\n",
    "model = Sequential()\n",
    "\n",
    "# input_length = 입력 sequence 길이\n",
    "# 임베딩 층 출력 = (samples, sequence_length, embedding_dimensionality)인 3D 실수 텐서(임베딩 시퀀스)\n",
    "# 여기서 출력 크기는 (samples, max_len, 8)\n",
    "model.add(Embedding(max_features, 8, input_length=max_len))\n",
    "\n",
    "# 3D 임베딩 텐서를 (samples, max_len * 8) 크기의 2D 텐서로 펼침.\n",
    "model.add(Flatten())\n",
    "\n",
    "# 분류기 추가.\n",
    "model.add(Dense(1, activation='sigmoid'))\n",
    "model.compile(optimizer='rmsprop', loss='binary_crossentropy', metrics=['acc'])\n",
    "model.summary()\n",
    "\n",
    "history = model.fit(x_train, y_train,\n",
    "                    epochs=10,\n",
    "                    batch_size=32,\n",
    "                    validation_data=(x_val,y_val))"
   ]
  },
  {
   "cell_type": "markdown",
   "metadata": {},
   "source": [
    "* 약 79% 정도의 검증 정확도.\n",
    "* 임베딩 시퀀스를 펼치고 하나의 Dense 층을 훈련했으므로 입력 시퀀스에 있는 각 단어를 독립적 다룸. 단어 사이의 관계나 문장의 구조를 고려하지 않음.\n",
    "* 각 시퀀스 전체를 고려한 특성을 학습하기 위해서는 임베딩 층 위에 순환 층이나 1D 합성곱 층을 추가해야 함."
   ]
  },
  {
   "cell_type": "markdown",
   "metadata": {},
   "source": [
    "# 사전 훈련된 단어 임베딩 사용하기"
   ]
  },
  {
   "cell_type": "markdown",
   "metadata": {},
   "source": [
    "* GloVe 임베딩 전처리"
   ]
  },
  {
   "cell_type": "code",
   "execution_count": 11,
   "metadata": {},
   "outputs": [
    {
     "name": "stdout",
     "output_type": "stream",
     "text": [
      "400000개의 단어 벡터를 찾았습니다.\n"
     ]
    }
   ],
   "source": [
    "glove_dir = '../input/glove-global-vectors-for-word-representation/'\n",
    "\n",
    "embeddings_index = {}\n",
    "f = open(os.path.join(glove_dir, 'glove.6B.100d.txt'), encoding=\"utf8\") # 100차원 임베딩 벡터 파일\n",
    "# .txt 파일 파싱\n",
    "for line in f: \n",
    "    values = line.split()\n",
    "    word = values[0]\n",
    "    coefs = np.asarray(values[1:], dtype='float32')\n",
    "    embeddings_index[word] = coefs # 단어와 이에 상응하는 벡터 표현(숫자 벡터)를 매핑하는 인덱스 생성.\n",
    "f.close()\n",
    "\n",
    "print('%s개의 단어 벡터를 찾았습니다.' % len(embeddings_index))"
   ]
  },
  {
   "cell_type": "code",
   "execution_count": 12,
   "metadata": {},
   "outputs": [],
   "source": [
    "# word_index.items()"
   ]
  },
  {
   "cell_type": "markdown",
   "metadata": {},
   "source": [
    "* 임베딩 행렬 준비"
   ]
  },
  {
   "cell_type": "code",
   "execution_count": 13,
   "metadata": {},
   "outputs": [],
   "source": [
    "embedding_dim = 100\n",
    "\n",
    "embedding_matrix = np.zeros((max_features, embedding_dim))\n",
    "for word, i in word_index.items(): # word_index: bow\n",
    "    embedding_vector = embeddings_index.get(word)\n",
    "    if i < max_features:\n",
    "        if embedding_vector is not None:\n",
    "            embedding_matrix[i] = embedding_vector\n",
    "            # 임베딩 행렬의 인덱스 i = 단어 인덱스(고유 번호)\n",
    "            # 행렬 i 원소 = 단어 i에 상응하는 embedding_dim 차원의 벡터"
   ]
  },
  {
   "cell_type": "markdown",
   "metadata": {},
   "source": [
    "* 모델 정의"
   ]
  },
  {
   "cell_type": "code",
   "execution_count": 14,
   "metadata": {},
   "outputs": [
    {
     "name": "stdout",
     "output_type": "stream",
     "text": [
      "Model: \"sequential_2\"\n",
      "_________________________________________________________________\n",
      "Layer (type)                 Output Shape              Param #   \n",
      "=================================================================\n",
      "embedding_3 (Embedding)      (None, 100, 100)          1000000   \n",
      "_________________________________________________________________\n",
      "flatten_2 (Flatten)          (None, 10000)             0         \n",
      "_________________________________________________________________\n",
      "dense_2 (Dense)              (None, 32)                320032    \n",
      "_________________________________________________________________\n",
      "dense_3 (Dense)              (None, 1)                 33        \n",
      "=================================================================\n",
      "Total params: 1,320,065\n",
      "Trainable params: 1,320,065\n",
      "Non-trainable params: 0\n",
      "_________________________________________________________________\n"
     ]
    }
   ],
   "source": [
    "model = Sequential()\n",
    "model.add(Embedding(max_features, embedding_dim, input_length=max_len))\n",
    "model.add(Flatten())\n",
    "model.add(Dense(32, activation='relu'))\n",
    "model.add(Dense(1, activation='sigmoid'))\n",
    "model.summary()"
   ]
  },
  {
   "cell_type": "markdown",
   "metadata": {},
   "source": [
    "* 모델에 GloVe 임베딩 로드"
   ]
  },
  {
   "cell_type": "code",
   "execution_count": 15,
   "metadata": {},
   "outputs": [],
   "source": [
    "# 모델의 첫 번째 층인 Embedding 층에 준비된 GloVe 행렬을 로드\n",
    "model.layers[0].set_weights([embedding_matrix])\n",
    "\n",
    "# trainable 속성 동결, 훈련하는 동안 사전 훈련된 부분의 업데이트 방지.\n",
    "# 학습하는 동안 랜덤하게 초기화된 다른 층으로부터 대량의 그래디언트 업데이트가 발생하면 이미 학습된 특성을 잃어버리기 때문,\n",
    "model.layers[0].trainable = False"
   ]
  },
  {
   "cell_type": "markdown",
   "metadata": {},
   "source": [
    "* 모델 훈련 및 평가"
   ]
  },
  {
   "cell_type": "markdown",
   "metadata": {},
   "source": [
    "f1_score"
   ]
  },
  {
   "cell_type": "code",
   "execution_count": 16,
   "metadata": {
    "_kg_hide-input": true
   },
   "outputs": [],
   "source": [
    "from keras import backend as K\n",
    "\n",
    "def recall(y_target, y_pred):\n",
    "    # clip(t, clip_value_min, clip_value_max) : clip_value_min~clip_value_max 이외 가장자리를 깎아 낸다\n",
    "    # round : 반올림한다\n",
    "    y_target_yn = K.round(K.clip(y_target, 0, 1)) # 실제값을 0(Negative) 또는 1(Positive)로 설정한다\n",
    "    y_pred_yn = K.round(K.clip(y_pred, 0, 1)) # 예측값을 0(Negative) 또는 1(Positive)로 설정한다\n",
    "\n",
    "    # True Positive는 실제 값과 예측 값이 모두 1(Positive)인 경우이다\n",
    "    count_true_positive = K.sum(y_target_yn * y_pred_yn) \n",
    "\n",
    "    # (True Positive + False Negative) = 실제 값이 1(Positive) 전체\n",
    "    count_true_positive_false_negative = K.sum(y_target_yn)\n",
    "\n",
    "    # Recall =  (True Positive) / (True Positive + False Negative)\n",
    "    # K.epsilon()는 'divide by zero error' 예방차원에서 작은 수를 더한다\n",
    "    recall = count_true_positive / (count_true_positive_false_negative + K.epsilon())\n",
    "\n",
    "    # return a single tensor value\n",
    "    return recall\n",
    "\n",
    "\n",
    "def precision(y_target, y_pred):\n",
    "    # clip(t, clip_value_min, clip_value_max) : clip_value_min~clip_value_max 이외 가장자리를 깎아 낸다\n",
    "    # round : 반올림한다\n",
    "    y_pred_yn = K.round(K.clip(y_pred, 0, 1)) # 예측값을 0(Negative) 또는 1(Positive)로 설정한다\n",
    "    y_target_yn = K.round(K.clip(y_target, 0, 1)) # 실제값을 0(Negative) 또는 1(Positive)로 설정한다\n",
    "\n",
    "    # True Positive는 실제 값과 예측 값이 모두 1(Positive)인 경우이다\n",
    "    count_true_positive = K.sum(y_target_yn * y_pred_yn) \n",
    "\n",
    "    # (True Positive + False Positive) = 예측 값이 1(Positive) 전체\n",
    "    count_true_positive_false_positive = K.sum(y_pred_yn)\n",
    "\n",
    "    # Precision = (True Positive) / (True Positive + False Positive)\n",
    "    # K.epsilon()는 'divide by zero error' 예방차원에서 작은 수를 더한다\n",
    "    precision = count_true_positive / (count_true_positive_false_positive + K.epsilon())\n",
    "\n",
    "    # return a single tensor value\n",
    "    return precision\n",
    "\n",
    "\n",
    "def f1score(y_target, y_pred):\n",
    "    _recall = recall(y_target, y_pred)\n",
    "    _precision = precision(y_target, y_pred)\n",
    "    # K.epsilon()는 'divide by zero error' 예방차원에서 작은 수를 더한다\n",
    "    _f1score = ( 2 * _recall * _precision) / (_recall + _precision+ K.epsilon())\n",
    "    \n",
    "    # return a single tensor value\n",
    "    return _f1score"
   ]
  },
  {
   "cell_type": "code",
   "execution_count": 17,
   "metadata": {},
   "outputs": [
    {
     "name": "stdout",
     "output_type": "stream",
     "text": [
      "Train on 5100 samples, validate on 2513 samples\n",
      "Epoch 1/10\n",
      "5100/5100 [==============================] - 1s 273us/step - loss: 0.5247 - acc: 0.7492 - f1score: 0.6823 - val_loss: 0.5180 - val_acc: 0.7521 - val_f1score: 0.7200\n",
      "Epoch 2/10\n",
      "5100/5100 [==============================] - 1s 196us/step - loss: 0.4146 - acc: 0.8149 - f1score: 0.7690 - val_loss: 0.4803 - val_acc: 0.7895 - val_f1score: 0.6894\n",
      "Epoch 3/10\n",
      "5100/5100 [==============================] - 1s 183us/step - loss: 0.3565 - acc: 0.8437 - f1score: 0.8043 - val_loss: 0.5133 - val_acc: 0.7855 - val_f1score: 0.6881\n",
      "Epoch 4/10\n",
      "5100/5100 [==============================] - 1s 178us/step - loss: 0.2996 - acc: 0.8706 - f1score: 0.8384 - val_loss: 0.5181 - val_acc: 0.7803 - val_f1score: 0.7040\n",
      "Epoch 5/10\n",
      "5100/5100 [==============================] - 1s 186us/step - loss: 0.2559 - acc: 0.8975 - f1score: 0.8746 - val_loss: 0.6173 - val_acc: 0.7573 - val_f1score: 0.7264\n",
      "Epoch 6/10\n",
      "5100/5100 [==============================] - 1s 185us/step - loss: 0.2142 - acc: 0.9208 - f1score: 0.9025 - val_loss: 0.5967 - val_acc: 0.7795 - val_f1score: 0.7044\n",
      "Epoch 7/10\n",
      "5100/5100 [==============================] - 1s 187us/step - loss: 0.1831 - acc: 0.9341 - f1score: 0.9192 - val_loss: 0.6319 - val_acc: 0.7764 - val_f1score: 0.6932\n",
      "Epoch 8/10\n",
      "5100/5100 [==============================] - 1s 187us/step - loss: 0.1532 - acc: 0.9492 - f1score: 0.9380 - val_loss: 0.7196 - val_acc: 0.7473 - val_f1score: 0.7084\n",
      "Epoch 9/10\n",
      "5100/5100 [==============================] - 1s 187us/step - loss: 0.1324 - acc: 0.9590 - f1score: 0.9506 - val_loss: 0.7235 - val_acc: 0.7795 - val_f1score: 0.7158\n",
      "Epoch 10/10\n",
      "5100/5100 [==============================] - 1s 194us/step - loss: 0.1153 - acc: 0.9655 - f1score: 0.9584 - val_loss: 0.7615 - val_acc: 0.7565 - val_f1score: 0.7099\n"
     ]
    }
   ],
   "source": [
    "model.compile(optimizer='rmsprop',\n",
    "              loss='binary_crossentropy',\n",
    "              metrics=['acc',f1score])\n",
    "\n",
    "history = model.fit(x_train, y_train,\n",
    "                    epochs=10,\n",
    "                    batch_size=32,\n",
    "                    validation_data=(x_val, y_val))\n",
    "\n",
    "model.save_weights('pre_trained_glove_model.h5')"
   ]
  },
  {
   "cell_type": "code",
   "execution_count": 18,
   "metadata": {},
   "outputs": [],
   "source": [
    "import matplotlib.pyplot as plt\n",
    "plt.style.use('ggplot')\n",
    "\n",
    "%matplotlib inline"
   ]
  },
  {
   "cell_type": "code",
   "execution_count": 19,
   "metadata": {},
   "outputs": [
    {
     "data": {
      "text/plain": [
       "<matplotlib.legend.Legend at 0x7f1a20213588>"
      ]
     },
     "execution_count": 19,
     "metadata": {},
     "output_type": "execute_result"
    },
    {
     "data": {
      "image/png": "[encoded data removed]",
      "text/plain": [
       "<Figure size 432x288 with 1 Axes>"
      ]
     },
     "metadata": {
      "needs_background": "light"
     },
     "output_type": "display_data"
    },
    {
     "data": {
      "image/png": "[encoded data removed]",
      "text/plain": [
       "<Figure size 432x288 with 1 Axes>"
      ]
     },
     "metadata": {
      "needs_background": "light"
     },
     "output_type": "display_data"
    },
    {
     "data": {
      "image/png": "[encoded data removed]",
      "text/plain": [
       "<Figure size 432x288 with 1 Axes>"
      ]
     },
     "metadata": {
      "needs_background": "light"
     },
     "output_type": "display_data"
    }
   ],
   "source": [
    "acc = history.history['acc']\n",
    "val_acc = history.history['val_acc']\n",
    "loss = history.history['loss']\n",
    "val_loss = history.history['val_loss']\n",
    "fl = history.history['f1score']\n",
    "val_fl = history.history['val_f1score']\n",
    "\n",
    "epochs = range(1, len(acc) + 1)\n",
    "\n",
    "plt.plot(epochs, acc, 'bo', label='Training acc')\n",
    "plt.plot(epochs, val_acc, 'b', label='Validation acc')\n",
    "plt.title('Training and validation accuracy')\n",
    "plt.legend()\n",
    "\n",
    "plt.figure()\n",
    "\n",
    "plt.plot(epochs, fl, 'ro', label='Training f1')\n",
    "plt.plot(epochs, val_fl, 'r', label='Validation f1')\n",
    "plt.title('Training and validation f1 score')\n",
    "plt.legend()\n",
    "\n",
    "plt.figure()\n",
    "\n",
    "plt.plot(epochs, loss, 'go', label='Training loss')\n",
    "plt.plot(epochs, val_loss, 'g', label='Validation loss')\n",
    "plt.title('Training and validation loss')\n",
    "plt.legend()"
   ]
  },
  {
   "cell_type": "markdown",
   "metadata": {},
   "source": [
    "# 테스트 데이터 tokenization & submission"
   ]
  },
  {
   "cell_type": "code",
   "execution_count": 20,
   "metadata": {},
   "outputs": [
    {
     "data": {
      "text/plain": [
       "(3263, 100)"
      ]
     },
     "execution_count": 20,
     "metadata": {},
     "output_type": "execute_result"
    }
   ],
   "source": [
    "test_data = pd.read_csv('/kaggle/input/nlp-getting-started/test.csv')\n",
    "\n",
    "tokenizer = Tokenizer(num_words=max_features)\n",
    "tokenizer.fit_on_texts(test_data['text'])\n",
    "sequence = tokenizer.texts_to_sequences(test_data['text']) \n",
    "\n",
    "x_test = pad_sequences(sequence, maxlen=max_len)\n",
    "\n",
    "x_test.shape"
   ]
  },
  {
   "cell_type": "code",
   "execution_count": 21,
   "metadata": {},
   "outputs": [],
   "source": [
    "model.load_weights('pre_trained_glove_model.h5')\n",
    "y_pred = model.predict(x_test)\n",
    "y_pred = np.round(y_pred).astype(int)"
   ]
  },
  {
   "cell_type": "code",
   "execution_count": 22,
   "metadata": {},
   "outputs": [
    {
     "data": {
      "text/html": [
       "<div>\n",
       "<style scoped>\n",
       "    .dataframe tbody tr th:only-of-type {\n",
       "        vertical-align: middle;\n",
       "    }\n",
       "\n",
       "    .dataframe tbody tr th {\n",
       "        vertical-align: top;\n",
       "    }\n",
       "\n",
       "    .dataframe thead th {\n",
       "        text-align: right;\n",
       "    }\n",
       "</style>\n",
       "<table border=\"1\" class=\"dataframe\">\n",
       "  <thead>\n",
       "    <tr style=\"text-align: right;\">\n",
       "      <th></th>\n",
       "      <th>id</th>\n",
       "      <th>target</th>\n",
       "    </tr>\n",
       "  </thead>\n",
       "  <tbody>\n",
       "    <tr>\n",
       "      <th>0</th>\n",
       "      <td>0</td>\n",
       "      <td>1</td>\n",
       "    </tr>\n",
       "    <tr>\n",
       "      <th>1</th>\n",
       "      <td>2</td>\n",
       "      <td>0</td>\n",
       "    </tr>\n",
       "    <tr>\n",
       "      <th>2</th>\n",
       "      <td>3</td>\n",
       "      <td>1</td>\n",
       "    </tr>\n",
       "    <tr>\n",
       "      <th>3</th>\n",
       "      <td>9</td>\n",
       "      <td>1</td>\n",
       "    </tr>\n",
       "    <tr>\n",
       "      <th>4</th>\n",
       "      <td>11</td>\n",
       "      <td>0</td>\n",
       "    </tr>\n",
       "  </tbody>\n",
       "</table>\n",
       "</div>"
      ],
      "text/plain": [
       "   id  target\n",
       "0   0       1\n",
       "1   2       0\n",
       "2   3       1\n",
       "3   9       1\n",
       "4  11       0"
      ]
     },
     "execution_count": 22,
     "metadata": {},
     "output_type": "execute_result"
    }
   ],
   "source": [
    "sub=pd.read_csv('../input/nlp-getting-started/sample_submission.csv')\n",
    "sub['target'] = y_pred\n",
    "sub.to_csv('submission.csv', index=False)\n",
    "sub.head()"
   ]
  }
 ],
 "metadata": {
  "kernelspec": {
   "display_name": "Python 3",
   "language": "python",
   "name": "python3"
  },
  "language_info": {
   "codemirror_mode": {
    "name": "ipython",
    "version": 3
   },
   "file_extension": ".py",
   "mimetype": "text/x-python",
   "name": "python",
   "nbconvert_exporter": "python",
   "pygments_lexer": "ipython3",
   "version": "3.6.6"
  }
 },
 "nbformat": 4,
 "nbformat_minor": 4
}
